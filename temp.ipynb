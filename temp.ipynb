{
 "cells": [
  {
   "cell_type": "code",
   "execution_count": 1,
   "metadata": {},
   "outputs": [],
   "source": [
    "import torch\n",
    "import parl\n",
    "from torch import nn\n",
    "import torch.nn.functional as F\n",
    "import numpy as np\n",
    "\n",
    "class baseModel(nn.Module):\n",
    "    def __init__(self, obs_shape, act_shape):\n",
    "        super(baseModel, self).__init__()\n",
    "        self.fc1 = nn.Linear(obs_shape[0], 64)\n",
    "        self.fc2 = nn.Linear(64, 64)\n",
    "        self.fc_pi = nn.ModuleList([nn.Linear(64, act_shape[i]).to(torch.device('cuda')) for i in range(len(act_shape))])\n",
    "        self.fc_v = nn.Linear(64, 1)\n",
    "    \n",
    "    def value(self, obs):\n",
    "        obs = obs.to(torch.device('cuda')).to(torch.float32)\n",
    "        obs = F.relu(self.fc1(obs))\n",
    "        obs = F.relu(self.fc2(obs))\n",
    "        v = self.fc_v(obs)\n",
    "        return v.reshape(-1)\n",
    "    \n",
    "    def policy(self, obs): # 注意返回的是 (n_action, batch_size, n_act)\n",
    "        obs = obs.to(torch.device('cuda')).to(torch.float32)\n",
    "        obs = F.relu(self.fc1(obs))\n",
    "        obs = F.relu(self.fc2(obs))\n",
    "        logits = [self.fc_pi[i](obs) for i in range(len(self.fc_pi))]\n",
    "        return logits\n",
    "\n",
    "class uavModel(parl.Model):\n",
    "    def __init__(self, obs_space, act_space, n_clusters):\n",
    "        \"\"\"\n",
    "        obs_space: (obs_n,)\n",
    "        act_space: (n, n, n, n, ...)\n",
    "        \"\"\"\n",
    "        super(uavModel, self).__init__()\n",
    "        self.net = nn.ModuleList([baseModel(obs_space, act_space) for i in range(n_clusters)])\n",
    "        for i in range(n_clusters):\n",
    "            self.net[i].to(torch.device('cuda'))\n",
    "        self.n_clusters = n_clusters\n",
    "        self.n_act = len(act_space)\n",
    "    \n",
    "    # 如果是调用下面两个, 那应该是 (n_clusters, xx) 的输入, xx 还需要batch一下\n",
    "    def value(self, obs):\n",
    "        return [self.net[i].value(obs[i].reshape(1, -1)) for i in range(len(self.net))]\n",
    "    \n",
    "    def policy(self, obs):\n",
    "        return [self.net[i].policy(obs[i].reshape(1, -1)) for i in range(len(self.net))]"
   ]
  },
  {
   "cell_type": "code",
   "execution_count": 2,
   "metadata": {},
   "outputs": [],
   "source": [
    "obs = (35,)\n",
    "act = np.array([6, 6, 6, 4, 4, 4, 6, 6, 6, 4, 4, 4])"
   ]
  },
  {
   "cell_type": "code",
   "execution_count": 3,
   "metadata": {},
   "outputs": [],
   "source": [
    "model = uavModel(obs, act, 3)"
   ]
  },
  {
   "cell_type": "code",
   "execution_count": 5,
   "metadata": {},
   "outputs": [
    {
     "data": {
      "text/plain": [
       "<generator object Module.parameters at 0x7f239e746d60>"
      ]
     },
     "execution_count": 5,
     "metadata": {},
     "output_type": "execute_result"
    }
   ],
   "source": [
    "model.parameters()"
   ]
  },
  {
   "cell_type": "code",
   "execution_count": 1,
   "metadata": {},
   "outputs": [
    {
     "ename": "AttributeError",
     "evalue": "'NoneType' object has no attribute 'append'",
     "output_type": "error",
     "traceback": [
      "\u001b[0;31m---------------------------------------------------------------------------\u001b[0m",
      "\u001b[0;31mAttributeError\u001b[0m                            Traceback (most recent call last)",
      "Cell \u001b[0;32mIn[1], line 2\u001b[0m\n\u001b[1;32m      1\u001b[0m a \u001b[39m=\u001b[39m \u001b[39mNone\u001b[39;00m\n\u001b[0;32m----> 2\u001b[0m a\u001b[39m.\u001b[39;49mappend(\u001b[39m1\u001b[39m)\n",
      "\u001b[0;31mAttributeError\u001b[0m: 'NoneType' object has no attribute 'append'"
     ]
    }
   ],
   "source": [
    "a = None\n",
    "a.append(1)"
   ]
  },
  {
   "cell_type": "code",
   "execution_count": null,
   "metadata": {},
   "outputs": [],
   "source": []
  }
 ],
 "metadata": {
  "kernelspec": {
   "display_name": "base",
   "language": "python",
   "name": "python3"
  },
  "language_info": {
   "codemirror_mode": {
    "name": "ipython",
    "version": 3
   },
   "file_extension": ".py",
   "mimetype": "text/x-python",
   "name": "python",
   "nbconvert_exporter": "python",
   "pygments_lexer": "ipython3",
   "version": "3.8.13"
  },
  "orig_nbformat": 4
 },
 "nbformat": 4,
 "nbformat_minor": 2
}
